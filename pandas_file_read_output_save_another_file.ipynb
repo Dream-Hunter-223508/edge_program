{
  "nbformat": 4,
  "nbformat_minor": 0,
  "metadata": {
    "colab": {
      "provenance": [],
      "authorship_tag": "ABX9TyOoHX9AU9q7rRWClU33Zpgr",
      "include_colab_link": true
    },
    "kernelspec": {
      "name": "python3",
      "display_name": "Python 3"
    },
    "language_info": {
      "name": "python"
    }
  },
  "cells": [
    {
      "cell_type": "markdown",
      "metadata": {
        "id": "view-in-github",
        "colab_type": "text"
      },
      "source": [
        "<a href=\"https://colab.research.google.com/github/Dream-Hunter-223508/edge_program/blob/main/pandas_file_read_output_save_another_file.ipynb\" target=\"_parent\"><img src=\"https://colab.research.google.com/assets/colab-badge.svg\" alt=\"Open In Colab\"/></a>"
      ]
    },
    {
      "cell_type": "code",
      "source": [
        "import pandas as pd\n",
        "df=pd.read_csv(\"textcsv.csv\")\n",
        "\n",
        "import sys\n",
        "\n",
        "!wget https://raw.githubusercontent.com/Murad734138/edge/refs/heads/main/MuradMath.py\n",
        "sys.path.append('/content') # Add the current directory to the path\n",
        "\n",
        "#from Calculator import add\n",
        "\n",
        "from MuradMath import printBigPi\n",
        "pi_val_list=[]\n",
        "\n",
        "for i in df:\n",
        "  #print(\"PI for digit = \",i,\":\",printBigPi(int(i)),end=\"\\n\")\n",
        "  pi_val_list.append(printBigPi(int(i)))\n",
        "output=pd.DataFrame(pi_val_list,columns=[\"pi\"])\n",
        "output.to_csv(\"output.csv\",index=False)\n",
        "print(\"Congratulations! NOW You can see PI valus in Outpu.csv file\")\n"
      ],
      "metadata": {
        "colab": {
          "base_uri": "https://localhost:8080/"
        },
        "id": "yqBPoiSOCaJs",
        "outputId": "987b7db8-2988-4b6a-fdb7-3d7d6ceb993a"
      },
      "execution_count": 20,
      "outputs": [
        {
          "output_type": "stream",
          "name": "stdout",
          "text": [
            "--2024-11-07 06:16:09--  https://raw.githubusercontent.com/Murad734138/edge/refs/heads/main/MuradMath.py\n",
            "Resolving raw.githubusercontent.com (raw.githubusercontent.com)... 185.199.110.133, 185.199.111.133, 185.199.108.133, ...\n",
            "Connecting to raw.githubusercontent.com (raw.githubusercontent.com)|185.199.110.133|:443... connected.\n",
            "HTTP request sent, awaiting response... 200 OK\n",
            "Length: 82 [text/plain]\n",
            "Saving to: ‘MuradMath.py.2’\n",
            "\n",
            "\rMuradMath.py.2        0%[                    ]       0  --.-KB/s               \rMuradMath.py.2      100%[===================>]      82  --.-KB/s    in 0s      \n",
            "\n",
            "2024-11-07 06:16:09 (1.27 MB/s) - ‘MuradMath.py.2’ saved [82/82]\n",
            "\n",
            "Congratulations! NOW You can see PI valus in Outpu.csv file\n"
          ]
        }
      ]
    }
  ]
}