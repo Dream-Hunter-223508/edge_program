{
  "nbformat": 4,
  "nbformat_minor": 0,
  "metadata": {
    "colab": {
      "provenance": [],
      "authorship_tag": "ABX9TyMAYUyH+Lwb4/aGKBX2vdBB",
      "include_colab_link": true
    },
    "kernelspec": {
      "name": "python3",
      "display_name": "Python 3"
    },
    "language_info": {
      "name": "python"
    }
  },
  "cells": [
    {
      "cell_type": "markdown",
      "metadata": {
        "id": "view-in-github",
        "colab_type": "text"
      },
      "source": [
        "<a href=\"https://colab.research.google.com/github/Dream-Hunter-223508/edge_program/blob/main/pandas_file_read.ipynb\" target=\"_parent\"><img src=\"https://colab.research.google.com/assets/colab-badge.svg\" alt=\"Open In Colab\"/></a>"
      ]
    },
    {
      "cell_type": "code",
      "source": [
        "import pandas as pd\n",
        "df=pd.read_csv(\"textcsv.csv\")\n"
      ],
      "metadata": {
        "colab": {
          "base_uri": "https://localhost:8080/"
        },
        "id": "yqBPoiSOCaJs",
        "outputId": "7459f4b4-d301-4fef-8adc-844f4bb43d9b"
      },
      "execution_count": 15,
      "outputs": [
        {
          "output_type": "stream",
          "name": "stdout",
          "text": [
            "10\n",
            "12\n",
            "40\n",
            "49\n",
            "100\n"
          ]
        }
      ]
    },
    {
      "cell_type": "code",
      "source": [
        "import sys\n",
        "\n",
        "!wget https://raw.githubusercontent.com/Murad734138/edge/refs/heads/main/MuradMath.py\n",
        "sys.path.append('/content') # Add the current directory to the path\n",
        "\n",
        "#from Calculator import add\n",
        "\n",
        "from MuradMath import printBigPi"
      ],
      "metadata": {
        "colab": {
          "base_uri": "https://localhost:8080/"
        },
        "id": "ng8-lZBIKQXe",
        "outputId": "69d24b79-5361-46b2-91fd-62d42e40d62e"
      },
      "execution_count": 16,
      "outputs": [
        {
          "output_type": "stream",
          "name": "stdout",
          "text": [
            "--2024-11-07 05:46:41--  https://raw.githubusercontent.com/Murad734138/edge/refs/heads/main/MuradMath.py\n",
            "Resolving raw.githubusercontent.com (raw.githubusercontent.com)... 185.199.110.133, 185.199.111.133, 185.199.109.133, ...\n",
            "Connecting to raw.githubusercontent.com (raw.githubusercontent.com)|185.199.110.133|:443... connected.\n",
            "HTTP request sent, awaiting response... 200 OK\n",
            "Length: 82 [text/plain]\n",
            "Saving to: ‘MuradMath.py’\n",
            "\n",
            "MuradMath.py        100%[===================>]      82  --.-KB/s    in 0s      \n",
            "\n",
            "2024-11-07 05:46:41 (981 KB/s) - ‘MuradMath.py’ saved [82/82]\n",
            "\n"
          ]
        }
      ]
    },
    {
      "cell_type": "code",
      "source": [
        "for i in df:\n",
        "  print(\"PI for digit = \",i,\":\",printBigPi(int(i)),end=\"\\n\")"
      ],
      "metadata": {
        "colab": {
          "base_uri": "https://localhost:8080/"
        },
        "id": "lKPPSCHMKTX9",
        "outputId": "f0b8617d-26c9-4018-cdc5-555cf6ee4b93"
      },
      "execution_count": 17,
      "outputs": [
        {
          "output_type": "stream",
          "name": "stdout",
          "text": [
            "PI for digit =  10 : 3.1415926536\n",
            "PI for digit =  12 : 3.14159265359\n",
            "PI for digit =  40 : 3.1415926535897932384626433832795028841972\n",
            "PI for digit =  49 : 3.1415926535897932384626433832795028841971693993751\n",
            "PI for digit =  100 : 3.141592653589793238462643383279502884197169399375105820974944592307816406286208998628034825342117068\n"
          ]
        }
      ]
    }
  ]
}