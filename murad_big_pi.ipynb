{
  "nbformat": 4,
  "nbformat_minor": 0,
  "metadata": {
    "colab": {
      "provenance": [],
      "authorship_tag": "ABX9TyOz2LxBDziHd58j21sMnG85",
      "include_colab_link": true
    },
    "kernelspec": {
      "name": "python3",
      "display_name": "Python 3"
    },
    "language_info": {
      "name": "python"
    }
  },
  "cells": [
    {
      "cell_type": "markdown",
      "metadata": {
        "id": "view-in-github",
        "colab_type": "text"
      },
      "source": [
        "<a href=\"https://colab.research.google.com/github/Dream-Hunter-223508/edge_program/blob/main/murad_big_pi.ipynb\" target=\"_parent\"><img src=\"https://colab.research.google.com/assets/colab-badge.svg\" alt=\"Open In Colab\"/></a>"
      ]
    },
    {
      "cell_type": "code",
      "source": [
        "import sys\n",
        "\n",
        "!wget https://raw.githubusercontent.com/Murad734138/edge/refs/heads/main/MuradMath.py\n",
        "sys.path.append('/content') # Add the current directory to the path\n",
        "\n",
        "#from Calculator import add\n",
        "\n",
        "from MuradMath import printBigPi\n",
        "n=int(input(\"Enter the number of points: \"))\n",
        "\n",
        "big_pi=printBigPi(n)\n",
        "print(big_pi)\n"
      ],
      "metadata": {
        "colab": {
          "base_uri": "https://localhost:8080/"
        },
        "id": "bbAul-5XbuDz",
        "outputId": "7405e80f-5628-412f-96db-7e9e61803165"
      },
      "execution_count": null,
      "outputs": [
        {
          "metadata": {
            "tags": null
          },
          "name": "stdout",
          "output_type": "stream",
          "text": [
            "--2024-11-01 11:14:27--  https://raw.githubusercontent.com/Murad734138/edge/refs/heads/main/MuradMath.py\n",
            "Resolving raw.githubusercontent.com (raw.githubusercontent.com)... 185.199.110.133, 185.199.109.133, 185.199.108.133, ...\n",
            "Connecting to raw.githubusercontent.com (raw.githubusercontent.com)|185.199.110.133|:443... connected.\n",
            "HTTP request sent, awaiting response... 200 OK\n",
            "Length: 82 [text/plain]\n",
            "Saving to: ‘MuradMath.py.2’\n",
            "\n",
            "\rMuradMath.py.2        0%[                    ]       0  --.-KB/s               \rMuradMath.py.2      100%[===================>]      82  --.-KB/s    in 0s      \n",
            "\n",
            "2024-11-01 11:14:27 (3.81 MB/s) - ‘MuradMath.py.2’ saved [82/82]\n",
            "\n"
          ]
        }
      ]
    }
  ]
}